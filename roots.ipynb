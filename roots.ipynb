{
 "cells": [
  {
   "cell_type": "code",
   "execution_count": 1,
   "metadata": {},
   "outputs": [],
   "source": [
    "import matplotlib.pyplot as plt\n",
    "import numpy as np"
   ]
  },
  {
   "cell_type": "code",
   "execution_count": 2,
   "metadata": {},
   "outputs": [],
   "source": [
    "def f(x):\n",
    "    return x**4 + 4*(x**3) - 8*(x**2) - 17"
   ]
  },
  {
   "cell_type": "code",
   "execution_count": 3,
   "metadata": {},
   "outputs": [],
   "source": [
    "def f_derivative(x):\n",
    "    eps = 0.0001\n",
    "    return (f(x+eps) - f(x))/eps"
   ]
  },
  {
   "cell_type": "code",
   "execution_count": 4,
   "metadata": {},
   "outputs": [],
   "source": [
    "def plotting(x, y, x_extr, y_extr, x0, y0):\n",
    "    fig, ax = plt.subplots()\n",
    "    ax.plot(x, y, label='f(x)')\n",
    "    ax.scatter(x_extr, y_extr, color='grey', label='local min-max')\n",
    "    ax.scatter(x0, y0, color='red', label='root')\n",
    "    plt.xlabel('x')\n",
    "    plt.ylabel('y')\n",
    "    plt.grid(True)\n",
    "    plt.legend()\n",
    "    plt.axhline(y=0, color='black', linewidth=1)"
   ]
  },
  {
   "cell_type": "code",
   "execution_count": 5,
   "metadata": {},
   "outputs": [],
   "source": [
    "# пошук екстремумів функції для бінарного пошуку коренів\n",
    "# повертає масив аргументів екстремуму\n",
    "def find_extrema(x, y):\n",
    "    x_extr = [x[0]]\n",
    "    for i in range(1, len(x)-1):\n",
    "        if (y[i-1] > y[i] < y[i+1]) or (y[i-1] < y[i] > y[i+1]):\n",
    "            x_extr.append(x[i])\n",
    "    x_extr += [x[-1]]\n",
    "    return x_extr"
   ]
  },
  {
   "cell_type": "code",
   "execution_count": 6,
   "metadata": {},
   "outputs": [],
   "source": [
    "# бінарний пошук коренів між\n",
    "# критичними точками\n",
    "# x масив аргументів\n",
    "def bisection(low, high, eps): # low - a, high -b\n",
    "    if f(low)*f(high) > 0: return None\n",
    "    else:\n",
    "        while (high-low)/2 > eps:\n",
    "            mid = (high+low)/2\n",
    "            if abs(f(mid)) < eps:\n",
    "                return mid\n",
    "            elif f(low)*f(mid) < 0:\n",
    "                high = mid\n",
    "            else:\n",
    "                low = mid\n",
    "        return mid"
   ]
  },
  {
   "cell_type": "code",
   "execution_count": 7,
   "metadata": {},
   "outputs": [],
   "source": [
    "# рекурсивна реалізація методу бісекції\n",
    "def binary_search(low, high, eps):\n",
    "    mid = (low+high)/2\n",
    "    if f(low)*f(high) > 0: return None\n",
    "    elif (high-low)/2 > eps and  f(low)*f(mid) < 0:\n",
    "        return binary_search(low, mid, eps)\n",
    "    elif (high-low)/2 > eps and f(low)*f(mid) > 0:\n",
    "        return binary_search(mid, high, eps)\n",
    "    return mid\n",
    "    "
   ]
  },
  {
   "cell_type": "code",
   "execution_count": 8,
   "metadata": {},
   "outputs": [],
   "source": [
    "def bisection_roots(x):\n",
    "    # binary search method\n",
    "    root = []\n",
    "    for i in range(len(x)-1):\n",
    "        x0 = bisection(x[i], x[i+1], 0.0001)\n",
    "        if x0 != None:\n",
    "            root.append(x0)\n",
    "    return root"
   ]
  },
  {
   "cell_type": "code",
   "execution_count": 9,
   "metadata": {},
   "outputs": [],
   "source": [
    "def newton_method(a, b, eps):\n",
    "    if f(a)*f(b) > 0: return None\n",
    "    \n",
    "    x0 = b if f(b) > f(a) else a\n",
    "    x1 = x0 - f(x0)/f_derivative(x0)\n",
    "    while (x1-x0)/2 > eps and f(x1) > eps:\n",
    "        x0 = x1\n",
    "        x1 = x0 - f(x0)/f_derivative(x0)\n",
    "    return x1"
   ]
  },
  {
   "cell_type": "code",
   "execution_count": 10,
   "metadata": {},
   "outputs": [],
   "source": [
    "def newton_roots(x):\n",
    "    root = []\n",
    "    for i in range(len(x)-1):\n",
    "        x0 = newton_method(x[i], x[i+1], 0.0001)\n",
    "        if x0 != None:\n",
    "            root.append(x0)\n",
    "    return root"
   ]
  },
  {
   "cell_type": "code",
   "execution_count": 11,
   "metadata": {
    "scrolled": false
   },
   "outputs": [
    {
     "name": "stdout",
     "output_type": "stream",
     "text": [
      "[-5.543090820312509, 2.020385131835766]\n",
      "[-5.543061638570028, 2.39898935156242]\n"
     ]
    },
    {
     "data": {
      "image/png": "[encoded data removed]",
      "text/plain": [
       "<Figure size 432x288 with 1 Axes>"
      ]
     },
     "metadata": {
      "needs_background": "light"
     },
     "output_type": "display_data"
    }
   ],
   "source": [
    "x = np.arange(-6, 3, 0.01)\n",
    "y = f(x)\n",
    "\n",
    "\n",
    "ex = find_extrema(x, y)  # аргументи екстремумів\n",
    "exy = [f(i) for i in ex] # значення в екстремумах\n",
    "\n",
    "x0 = bisection_roots(ex)\n",
    "y0 = [0 for i in range(len(x0))]\n",
    "\n",
    "print(bisection_roots(ex))\n",
    "print(newton_roots(ex))\n",
    "plotting(x, y, ex, exy, x0, y0)"
   ]
  }
 ],
 "metadata": {
  "kernelspec": {
   "display_name": "Python 3",
   "language": "python",
   "name": "python3"
  },
  "language_info": {
   "codemirror_mode": {
    "name": "ipython",
    "version": 3
   },
   "file_extension": ".py",
   "mimetype": "text/x-python",
   "name": "python",
   "nbconvert_exporter": "python",
   "pygments_lexer": "ipython3",
   "version": "3.8.3"
  }
 },
 "nbformat": 4,
 "nbformat_minor": 4
}
